{
 "cells": [
  {
   "cell_type": "markdown",
   "metadata": {},
   "source": [
    "# Assignment for 28-05-2020"
   ]
  },
  {
   "cell_type": "markdown",
   "metadata": {},
   "source": [
    "Question 1:Accept a string from the user and count no.of vowels,consonants and special characters"
   ]
  },
  {
   "cell_type": "code",
   "execution_count": 4,
   "metadata": {},
   "outputs": [
    {
     "name": "stdout",
     "output_type": "stream",
     "text": [
      "Enter a string: bharadwaj\n",
      "vowel count: 3 \n",
      "consonants count:  6\n"
     ]
    }
   ],
   "source": [
    "inp=input(\"Enter a string: \")\n",
    "vc=0\n",
    "cc=0\n",
    "inp.lower()\n",
    "for i in inp:\n",
    "    if i in 'aeiou':\n",
    "        vc+=1\n",
    "    elif i in \" \":\n",
    "        continue\n",
    "    else:\n",
    "        cc+=1\n",
    "print(\"vowel count:\",vc,\"\\nconsonants count: \",cc)"
   ]
  },
  {
   "cell_type": "markdown",
   "metadata": {},
   "source": [
    "Question 2:count the no.of pairs of a in the given string(Infosys InfyTQ)string → \"abbaaccbbaaa\"output → 2"
   ]
  },
  {
   "cell_type": "code",
   "execution_count": 5,
   "metadata": {},
   "outputs": [
    {
     "name": "stdout",
     "output_type": "stream",
     "text": [
      "Enter a String: abbaaccbbaaa\n",
      "2\n"
     ]
    }
   ],
   "source": [
    "inp=input(\"Enter a String: \")\n",
    "c=0\n",
    "c1=0\n",
    "p=0\n",
    "for i in inp:\n",
    "    if i=='a' and c==0:\n",
    "        c=1\n",
    "    elif i=='a' and c==1:\n",
    "        c=0\n",
    "        p=p+1\n",
    "    else:\n",
    "        c=0\n",
    "print(p)"
   ]
  },
  {
   "cell_type": "markdown",
   "metadata": {},
   "source": [
    "Question 3:Test case1: string →  \"((((()()()))))()\" output →  8\n",
    "           Test case2: string →  \"((()))()\" Output →  4"
   ]
  },
  {
   "cell_type": "code",
   "execution_count": 7,
   "metadata": {},
   "outputs": [
    {
     "name": "stdout",
     "output_type": "stream",
     "text": [
      "Enter a String: ((((()()()))))()\n",
      "8\n"
     ]
    }
   ],
   "source": [
    "inp=input(\"Enter a String: \")\n",
    "c=0\n",
    "c1=0\n",
    "p=0\n",
    "for i in inp:\n",
    "    if i=='(':\n",
    "        c+=1\n",
    "    elif i==')' and c>0:\n",
    "        c-=1\n",
    "        p=p+1\n",
    "print(p)"
   ]
  },
  {
   "cell_type": "markdown",
   "metadata": {},
   "source": [
    "Question 4:Read the input as two limits and Print the output as Palindrome count between the two limits\n",
    "           Example #1; Input : 1 10 Output : 9\n",
    "           Example #2: Input : 1 100 Output : 18"
   ]
  },
  {
   "cell_type": "code",
   "execution_count": 16,
   "metadata": {},
   "outputs": [
    {
     "name": "stdout",
     "output_type": "stream",
     "text": [
      "enter number127\n",
      "127\n",
      "848\n"
     ]
    }
   ],
   "source": [
    "n=int(input(\"enter number\"))\n",
    "s = 0\n",
    "while True:\n",
    "    k = str(n)\n",
    "    if k == k[::-1]:\n",
    "        print(k)\n",
    "        break\n",
    "    else:\n",
    "      m = int(k[::-1])\n",
    "      n += m\n",
    "      s += 1\n",
    "      print(k)"
   ]
  },
  {
   "cell_type": "markdown",
   "metadata": {},
   "source": [
    "Question 5:Accept a number as an input and check whether the given number is palindrome or not if it is a palindrome number print the number on the screen if it is not a palindrome number reverse that number and add it to previous number repeat this until will get a palindrome number and print that palindrome number on the screen\n",
    "input: 127\n",
    "output: 848"
   ]
  },
  {
   "cell_type": "code",
   "execution_count": 14,
   "metadata": {},
   "outputs": [
    {
     "name": "stdout",
     "output_type": "stream",
     "text": [
      "Enter limits: 127\n",
      "848\n"
     ]
    }
   ],
   "source": [
    "n=int(input(\"Enter limits: \"))\n",
    "c=0\n",
    "while c==0:\n",
    "    t=0\n",
    "    v=n\n",
    "    while n>0:\n",
    "        r=n%10\n",
    "        t=(t*10)+r\n",
    "        n=n//10\n",
    "    if t==v:\n",
    "        c=1\n",
    "        break\n",
    "    n=v+t\n",
    "print(t)"
   ]
  },
  {
   "cell_type": "markdown",
   "metadata": {},
   "source": [
    "Question 6:input:orange  →   output : puboif"
   ]
  },
  {
   "cell_type": "code",
   "execution_count": 15,
   "metadata": {},
   "outputs": [
    {
     "name": "stdout",
     "output_type": "stream",
     "text": [
      "puboif\n"
     ]
    }
   ],
   "source": [
    "value = 'orange'\n",
    "var=(chr(ord(value[0])+1))\n",
    "var1=(chr(ord(value[1])+3))\n",
    "var2=(chr(ord(value[2])+1))\n",
    "var3=(chr(ord(value[3])+1))\n",
    "var4=(chr(ord(value[4])+2))\n",
    "var5=(chr(ord(value[5])+1))\n",
    "value=var+var1+var2+var3+var4+var5\n",
    "print(value)"
   ]
  },
  {
   "cell_type": "markdown",
   "metadata": {},
   "source": [
    "Question 7:Accept input as a string and display sum of digits as the output input:Appli123cation456 \n",
    "Output: 21"
   ]
  },
  {
   "cell_type": "code",
   "execution_count": 10,
   "metadata": {},
   "outputs": [
    {
     "name": "stdout",
     "output_type": "stream",
     "text": [
      "Enter a String: Appli123cation456\n",
      "21\n"
     ]
    }
   ],
   "source": [
    "n=input(\"Enter a String: \")\n",
    "a=[]\n",
    "for i in n:\n",
    "    try:\n",
    "        p=int(i)\n",
    "        a.append(p)\n",
    "    except:\n",
    "        continue\n",
    "print(sum(a))"
   ]
  },
  {
   "cell_type": "markdown",
   "metadata": {},
   "source": [
    "Question 8:Write a program to prompt for a score between 0.0 and 1.0. If the score is out of range, print an error. If the score is between 0.0 and 1.0, print a grade using the following table:\n",
    "Score Grade\n",
    ">= 0.9 A\n",
    ">= 0.8 B\n",
    ">= 0.7 C\n",
    ">= 0.6 D\n",
    "< 0.6 F\n",
    "If the user enters a value out of range, print a suitable error message and exit. For the test, enter a score of 0.85"
   ]
  },
  {
   "cell_type": "code",
   "execution_count": 11,
   "metadata": {},
   "outputs": [
    {
     "name": "stdout",
     "output_type": "stream",
     "text": [
      " 0.85\n",
      "B\n"
     ]
    }
   ],
   "source": [
    "score = float(input(\" \"))\n",
    "if score>1.0 or score<0.0 :\n",
    "    print(\"error\")\n",
    "elif score>=0.9 :\n",
    "    print ('A')\n",
    "elif score>=0.8 :\n",
    "    print( 'B')\n",
    "elif score>=0.7 :\n",
    "    print( 'C')\n",
    "elif score>=0.6 :\n",
    "    print( 'D')\n",
    "else :\n",
    "    print( 'F')\n",
    "    "
   ]
  },
  {
   "cell_type": "markdown",
   "metadata": {},
   "source": [
    "Question 9:Write a Python program which iterates the integers from 1 to 50. For multiples of three print \"Fizz\" instead of the number and for the multiples of five print \"Buzz\". For numbers which are multiples of both three and five print \"FizzBuzz\".\n",
    "Sample Output :\n",
    "fizzbuzz\n",
    "1\n",
    "2\n",
    "fizz\n",
    "4\n",
    "buzz"
   ]
  },
  {
   "cell_type": "code",
   "execution_count": 12,
   "metadata": {},
   "outputs": [
    {
     "name": "stdout",
     "output_type": "stream",
     "text": [
      "fizzbuzz\n",
      "1\n",
      "2\n",
      "fizz\n",
      "4\n",
      "buzz\n"
     ]
    }
   ],
   "source": [
    "for fizzbuzz in range(6):\n",
    "    if fizzbuzz % 3 == 0 and fizzbuzz % 5 == 0:\n",
    "        print(\"fizzbuzz\")\n",
    "        continue\n",
    "    elif fizzbuzz % 3 == 0:\n",
    "        print(\"fizz\")\n",
    "        continue\n",
    "    elif fizzbuzz % 5 == 0:\n",
    "        print(\"buzz\")\n",
    "        continue\n",
    "    print(fizzbuzz)"
   ]
  },
  {
   "cell_type": "markdown",
   "metadata": {},
   "source": [
    "Question 10:Write a Python program to find the median of three values.\n",
    "Expected Output:\n",
    "Input first number: 26                                            \n",
    "Input second number: 15                                                \n",
    "Input third number: 29                                                  \n",
    "The median is 26"
   ]
  },
  {
   "cell_type": "code",
   "execution_count": 13,
   "metadata": {},
   "outputs": [
    {
     "name": "stdout",
     "output_type": "stream",
     "text": [
      "num126\n",
      "num215\n",
      "num329\n",
      "26\n"
     ]
    }
   ],
   "source": [
    "a = int(input(\"num1\"))\n",
    "b = int(input(\"num2\"))\n",
    "c = int(input(\"num3\"))\n",
    "\n",
    "if b < a and a < c:\n",
    "    print(a)\n",
    "elif c < a and a < b:\n",
    "    print(a)\n",
    "    \n",
    "elif c < b and b < a:\n",
    "    print(b)\n",
    "elif a < b and b < c:\n",
    "    print(b)\n",
    "    \n",
    "elif b < c and c < a:\n",
    "    print(c)    \n",
    "elif a < c and c < b:\n",
    "    print(c)"
   ]
  },
  {
   "cell_type": "code",
   "execution_count": null,
   "metadata": {},
   "outputs": [],
   "source": []
  }
 ],
 "metadata": {
  "kernelspec": {
   "display_name": "Python 3",
   "language": "python",
   "name": "python3"
  },
  "language_info": {
   "codemirror_mode": {
    "name": "ipython",
    "version": 3
   },
   "file_extension": ".py",
   "mimetype": "text/x-python",
   "name": "python",
   "nbconvert_exporter": "python",
   "pygments_lexer": "ipython3",
   "version": "3.7.6"
  }
 },
 "nbformat": 4,
 "nbformat_minor": 4
}
