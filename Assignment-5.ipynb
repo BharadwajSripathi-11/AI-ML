{
 "cells": [
  {
   "cell_type": "markdown",
   "metadata": {},
   "source": [
    "### CSE-221710305056-SRIPATHI VENKATA SAI BHARADWAJ\n",
    "\n",
    "#### Assignment 5 (01-06-2020)"
   ]
  },
  {
   "cell_type": "code",
   "execution_count": 5,
   "metadata": {},
   "outputs": [
    {
     "name": "stdout",
     "output_type": "stream",
     "text": [
      "runningbharadwaj*90\n",
      "you need to generate the new password yes or no:yes\n",
      "sleepymahesh>51\n",
      "you need to generate the new password yes or no:yes\n",
      "standingbharadwaj@26\n",
      "you need to generate the new password yes or no:yes\n",
      "modeofsrinivas[73\n",
      "you need to generate the new password yes or no:yes\n",
      "seatingshiva{37\n",
      "you need to generate the new password yes or no:no\n"
     ]
    }
   ],
   "source": [
    "#Password picker\n",
    "\n",
    "import random\n",
    "list1=[\"modeof\",\"sleepy\",\"running\",\"seating\",\"standing\",\"writing\"]\n",
    "tup1 = [\"bharadwaj\",\"kalyan\",\"shiva\",\"mahesh\",\"srinivas\",\"sai\"]\n",
    "import string\n",
    "string.punctuation\n",
    "\n",
    "while True:\n",
    "    st=random.choice(list1)+random.choice(tup1)+random.choice(string.punctuation)+str (random.randint(0,100))\n",
    "    print(st)\n",
    "    s=input(\"you need to generate the new password yes or no:\")\n",
    "    s=s.lower()\n",
    "    if s==\"no\":\n",
    "        break"
   ]
  }
 ],
 "metadata": {
  "kernelspec": {
   "display_name": "Python 3",
   "language": "python",
   "name": "python3"
  },
  "language_info": {
   "codemirror_mode": {
    "name": "ipython",
    "version": 3
   },
   "file_extension": ".py",
   "mimetype": "text/x-python",
   "name": "python",
   "nbconvert_exporter": "python",
   "pygments_lexer": "ipython3",
   "version": "3.7.6"
  }
 },
 "nbformat": 4,
 "nbformat_minor": 4
}
