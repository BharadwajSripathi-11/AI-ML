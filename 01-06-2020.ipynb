{
 "cells": [
  {
   "cell_type": "markdown",
   "metadata": {},
   "source": [
    "### File Handling:\n",
    "1. create\n",
    "2. write\n",
    "3. reading\n",
    "4. appending\n",
    "5. renaming\n",
    "6. removing"
   ]
  },
  {
   "cell_type": "code",
   "execution_count": 1,
   "metadata": {},
   "outputs": [],
   "source": [
    "# Rename a file\n",
    "import os\n",
    "os.rename(\"sample.txt\",\"demo.txt\")"
   ]
  },
  {
   "cell_type": "code",
   "execution_count": 2,
   "metadata": {},
   "outputs": [],
   "source": [
    "# Remove a file\n",
    "os.remove(\"demo.txt\")"
   ]
  },
  {
   "cell_type": "markdown",
   "metadata": {},
   "source": [
    "### Question 5:\n",
    "1. Create a folder\n",
    "2. Goto that folder and create 5 no.of files\n",
    "3. All the names should be unique\n",
    "4. Add some content into the file and the content in all the files should be unique\n",
    "5. File size should be 512bits"
   ]
  },
  {
   "cell_type": "code",
   "execution_count": null,
   "metadata": {},
   "outputs": [],
   "source": [
    "import os\n",
    "os.mkdir(\"python\")#creating a folder\n",
    "for i in range(5):#for creating 5 files\n",
    "    file_name = \" \"#creating a file name\n",
    "    f = open(\"c://python//file name\",\"w\")#creates a file with the given name\n",
    "    for i in range(512):#adding content\n",
    "        f.write(\"character\")"
   ]
  },
  {
   "cell_type": "markdown",
   "metadata": {},
   "source": [
    "### Tuple:\n",
    "1. Immutable(changes are not allowed)\n",
    "2. using ( ) elements are separated by ,\n",
    "3. Indexed,Ordered"
   ]
  },
  {
   "cell_type": "code",
   "execution_count": 3,
   "metadata": {},
   "outputs": [
    {
     "name": "stdout",
     "output_type": "stream",
     "text": [
      "<class 'tuple'>\n"
     ]
    }
   ],
   "source": [
    "#Tuple \n",
    "tup1 = (12,3,345.56,\"abc\",True)\n",
    "print(type(tup1))"
   ]
  },
  {
   "cell_type": "code",
   "execution_count": 5,
   "metadata": {},
   "outputs": [
    {
     "name": "stdout",
     "output_type": "stream",
     "text": [
      "345.56\n",
      "True\n"
     ]
    }
   ],
   "source": [
    "print(tup1[2])\n",
    "print(tup1[-1])"
   ]
  },
  {
   "cell_type": "code",
   "execution_count": 12,
   "metadata": {},
   "outputs": [
    {
     "data": {
      "text/plain": [
       "(12, 3, 100, 'abc', True)"
      ]
     },
     "execution_count": 12,
     "metadata": {},
     "output_type": "execute_result"
    }
   ],
   "source": [
    "l = list(tup1)\n",
    "l[2] = 100\n",
    "tup1 = tuple(l)\n",
    "tup1"
   ]
  },
  {
   "cell_type": "markdown",
   "metadata": {},
   "source": [
    "### Built-in Methods:\n",
    "1. count()\n",
    "2. index()"
   ]
  },
  {
   "cell_type": "code",
   "execution_count": 13,
   "metadata": {},
   "outputs": [
    {
     "name": "stdout",
     "output_type": "stream",
     "text": [
      "1\n",
      "0\n"
     ]
    }
   ],
   "source": [
    "print(tup1.count(12))\n",
    "print(tup1.index(12))"
   ]
  },
  {
   "cell_type": "markdown",
   "metadata": {},
   "source": [
    "### Packing and Unpacking"
   ]
  },
  {
   "cell_type": "code",
   "execution_count": 15,
   "metadata": {},
   "outputs": [
    {
     "name": "stdout",
     "output_type": "stream",
     "text": [
      "354\n"
     ]
    }
   ],
   "source": [
    "#unpacking\n",
    "tup2 = (12,232,4,354)\n",
    "a,b,c,d = tup2\n",
    "print(d)"
   ]
  },
  {
   "cell_type": "code",
   "execution_count": 17,
   "metadata": {},
   "outputs": [
    {
     "name": "stdout",
     "output_type": "stream",
     "text": [
      "<class 'tuple'>\n",
      "(10, 20, 30)\n"
     ]
    }
   ],
   "source": [
    "#packing\n",
    "x = 10,20,30\n",
    "print(type(x))\n",
    "print(x)"
   ]
  },
  {
   "cell_type": "code",
   "execution_count": 19,
   "metadata": {},
   "outputs": [
    {
     "name": "stdout",
     "output_type": "stream",
     "text": [
      "<class 'tuple'>\n"
     ]
    }
   ],
   "source": [
    "#Tuple with single element\n",
    "y = (10,)\n",
    "print(type(y))"
   ]
  },
  {
   "cell_type": "code",
   "execution_count": 22,
   "metadata": {},
   "outputs": [
    {
     "name": "stdout",
     "output_type": "stream",
     "text": [
      "10 20 30 "
     ]
    }
   ],
   "source": [
    "#Iterating through tuple\n",
    "for ele in x:\n",
    "    print(ele,end=\" \")"
   ]
  },
  {
   "cell_type": "markdown",
   "metadata": {},
   "source": [
    "### Set:\n",
    "1. { }\n",
    "2. Does not allow duplicate values\n",
    "3. Not ordered\n",
    "4. Unindexed\n",
    "5. Mutable"
   ]
  },
  {
   "cell_type": "code",
   "execution_count": 23,
   "metadata": {},
   "outputs": [
    {
     "name": "stdout",
     "output_type": "stream",
     "text": [
      "{1, 2, 5, 6, 45, 334}\n"
     ]
    }
   ],
   "source": [
    "set1 = {1,2,334,45,5,6,2,1}\n",
    "print(set1)"
   ]
  },
  {
   "cell_type": "code",
   "execution_count": 24,
   "metadata": {},
   "outputs": [
    {
     "name": "stdout",
     "output_type": "stream",
     "text": [
      "1\n",
      "2\n",
      "5\n",
      "6\n",
      "45\n",
      "334\n"
     ]
    }
   ],
   "source": [
    "for ele in set1:\n",
    "    print(ele)"
   ]
  },
  {
   "cell_type": "markdown",
   "metadata": {},
   "source": [
    "### Built-in functions:\n",
    "1. len()\n",
    "2. min()\n",
    "3. max()\n",
    "4. set()"
   ]
  },
  {
   "cell_type": "code",
   "execution_count": 27,
   "metadata": {},
   "outputs": [
    {
     "name": "stdout",
     "output_type": "stream",
     "text": [
      "{1, 2, 5, 6, 45, 334}\n",
      "6\n",
      "1\n",
      "334\n"
     ]
    }
   ],
   "source": [
    "print(set1)\n",
    "print(len(set1))\n",
    "print(min(set1))\n",
    "print(max(set1))"
   ]
  },
  {
   "cell_type": "code",
   "execution_count": 28,
   "metadata": {},
   "outputs": [
    {
     "data": {
      "text/plain": [
       "{1, 2, 3, 4, 5}"
      ]
     },
     "execution_count": 28,
     "metadata": {},
     "output_type": "execute_result"
    }
   ],
   "source": [
    "#Removing duplicates from the list\n",
    "list1 = {1,2,3,4,5,1,2,3}\n",
    "list1 = set(list1)\n",
    "list1"
   ]
  },
  {
   "cell_type": "markdown",
   "metadata": {},
   "source": [
    "### Built-in Methods:\n",
    "\n",
    "#### Adding an element\n",
    "1. add()\n",
    "\n",
    "#### Removing an element\n",
    "2. pop()\n",
    "3. remove()\n",
    "4. discard()\n",
    "5. clear()"
   ]
  },
  {
   "cell_type": "code",
   "execution_count": 30,
   "metadata": {},
   "outputs": [
    {
     "name": "stdout",
     "output_type": "stream",
     "text": [
      "<class 'set'>\n"
     ]
    }
   ],
   "source": [
    "set2 = set()\n",
    "print(type(set2))"
   ]
  },
  {
   "cell_type": "code",
   "execution_count": 32,
   "metadata": {},
   "outputs": [
    {
     "data": {
      "text/plain": [
       "{12, 23, 100}"
      ]
     },
     "execution_count": 32,
     "metadata": {},
     "output_type": "execute_result"
    }
   ],
   "source": [
    "#Adding an element\n",
    "set2.add(12)\n",
    "set2.add(23)\n",
    "set2.add(100)\n",
    "set2"
   ]
  },
  {
   "cell_type": "code",
   "execution_count": 33,
   "metadata": {},
   "outputs": [
    {
     "data": {
      "text/plain": [
       "100"
      ]
     },
     "execution_count": 33,
     "metadata": {},
     "output_type": "execute_result"
    }
   ],
   "source": [
    "set2.pop()"
   ]
  },
  {
   "cell_type": "code",
   "execution_count": 34,
   "metadata": {},
   "outputs": [],
   "source": [
    "set2.remove(12)"
   ]
  },
  {
   "cell_type": "code",
   "execution_count": 35,
   "metadata": {},
   "outputs": [
    {
     "data": {
      "text/plain": [
       "{23}"
      ]
     },
     "execution_count": 35,
     "metadata": {},
     "output_type": "execute_result"
    }
   ],
   "source": [
    "set2"
   ]
  },
  {
   "cell_type": "code",
   "execution_count": 36,
   "metadata": {},
   "outputs": [],
   "source": [
    "set2.discard(12)"
   ]
  },
  {
   "cell_type": "code",
   "execution_count": 37,
   "metadata": {},
   "outputs": [
    {
     "data": {
      "text/plain": [
       "set()"
      ]
     },
     "execution_count": 37,
     "metadata": {},
     "output_type": "execute_result"
    }
   ],
   "source": [
    "set2.clear()\n",
    "set2"
   ]
  },
  {
   "cell_type": "code",
   "execution_count": 40,
   "metadata": {},
   "outputs": [
    {
     "name": "stdout",
     "output_type": "stream",
     "text": [
      "{1, 2, 3, 4, 5, 6, 7}\n",
      "{1, 2}\n",
      "{6, 7}\n",
      "{3, 4, 5}\n"
     ]
    }
   ],
   "source": [
    "#union,difference(A-B or B-A),#intersection\n",
    "A = {1,2,3,4,5}\n",
    "B = {3,4,5,6,7}\n",
    "#union A U B ==> {1,2,3,4,5,6,7}\n",
    "print(A.union(B))\n",
    "#A - B ==> {1,2}\n",
    "#B - A ==> {6,7}\n",
    "print(A.difference(B))#A-B\n",
    "print(B.difference(A))#B-A\n",
    "#intersection A and B ==> {3,4,5}\n",
    "print(A.intersection(B))"
   ]
  },
  {
   "cell_type": "code",
   "execution_count": 42,
   "metadata": {},
   "outputs": [
    {
     "name": "stdout",
     "output_type": "stream",
     "text": [
      "True\n",
      "False\n",
      "True\n",
      "True\n"
     ]
    }
   ],
   "source": [
    "#subset,super set\n",
    "C = {1,2,3,4,5,6,7,8,9,10}\n",
    "print(A.issubset(C))#True\n",
    "print(A.issubset(B))#False\n",
    "print(C.issuperset(A))#True\n",
    "print(C.issuperset(B))#True"
   ]
  },
  {
   "cell_type": "code",
   "execution_count": 43,
   "metadata": {},
   "outputs": [
    {
     "name": "stdout",
     "output_type": "stream",
     "text": [
      "False\n",
      "True\n"
     ]
    }
   ],
   "source": [
    "#disjoint\n",
    "X = {1,2}\n",
    "Y = {23,34,45}\n",
    "print(A.isdisjoint(B))#False\n",
    "print(X.isdisjoint(Y))#True"
   ]
  },
  {
   "cell_type": "code",
   "execution_count": 45,
   "metadata": {},
   "outputs": [
    {
     "name": "stdout",
     "output_type": "stream",
     "text": [
      "{1, 2, 6, 7}\n",
      "{1, 2, 3, 4, 5}\n",
      "{3, 4, 5, 6, 7}\n"
     ]
    }
   ],
   "source": [
    "#Symmetric difference ==> (A-B U B-A)\n",
    "print(A.symmetric_difference(B))\n",
    "print(A)\n",
    "print(B)"
   ]
  },
  {
   "cell_type": "code",
   "execution_count": 46,
   "metadata": {},
   "outputs": [
    {
     "name": "stdout",
     "output_type": "stream",
     "text": [
      "{1, 2, 3, 4, 5, 6, 7}\n",
      "{3, 4, 5, 6, 7}\n"
     ]
    }
   ],
   "source": [
    "A.update(B)#A = A union B\n",
    "print(A)\n",
    "print(B)"
   ]
  },
  {
   "cell_type": "code",
   "execution_count": 47,
   "metadata": {},
   "outputs": [
    {
     "name": "stdout",
     "output_type": "stream",
     "text": [
      "{3, 4, 5, 6, 7}\n",
      "{3, 4, 5, 6, 7}\n"
     ]
    }
   ],
   "source": [
    "A.intersection_update(B)\n",
    "print(A)\n",
    "print(B)"
   ]
  },
  {
   "cell_type": "code",
   "execution_count": 48,
   "metadata": {},
   "outputs": [
    {
     "name": "stdout",
     "output_type": "stream",
     "text": [
      "set()\n",
      "{3, 4, 5, 6, 7}\n"
     ]
    }
   ],
   "source": [
    "A.difference_update(B)\n",
    "print(A)\n",
    "print(B)"
   ]
  },
  {
   "cell_type": "code",
   "execution_count": 49,
   "metadata": {},
   "outputs": [
    {
     "name": "stdout",
     "output_type": "stream",
     "text": [
      "{5, 4, 3, 6, 7}\n",
      "{3, 4, 5, 6, 7}\n"
     ]
    }
   ],
   "source": [
    "A.symmetric_difference_update(B)\n",
    "print(A)\n",
    "print(B)"
   ]
  },
  {
   "cell_type": "code",
   "execution_count": 50,
   "metadata": {},
   "outputs": [
    {
     "name": "stdout",
     "output_type": "stream",
     "text": [
      "{1}\n",
      "{4}\n",
      "{1, 4}\n",
      "{1, 2, 3}\n",
      "{2, 3, 4}\n",
      "{1, 4}\n",
      "{2, 3, 4}\n"
     ]
    }
   ],
   "source": [
    "A = {1,2,3}\n",
    "B = {2,3,4}\n",
    "print(A.difference(B))#A-B\n",
    "print(B.difference(A))#B-A\n",
    "print(A.symmetric_difference(B))#A-B union B-A\n",
    "print(A)\n",
    "print(B)\n",
    "A.symmetric_difference_update(B)\n",
    "print(A)\n",
    "print(B)"
   ]
  },
  {
   "cell_type": "markdown",
   "metadata": {},
   "source": [
    "### Dictionary:\n",
    "\n",
    "```dictionary name = {key1:value1,key2:key2,.......}```\n",
    "\n",
    "#### Rules for key :\n",
    "1. keys should be unique\n",
    "2. keys should be immutable (example:numeric,string,tuple )"
   ]
  },
  {
   "cell_type": "code",
   "execution_count": 53,
   "metadata": {},
   "outputs": [
    {
     "name": "stdout",
     "output_type": "stream",
     "text": [
      "{'name': 'bharadwaj', 'emp id': 1234, 'address': 'hyd'}\n"
     ]
    }
   ],
   "source": [
    "#creating a dictionary\n",
    "dict1 = {\"name\":\"bharadwaj\",\"emp id\":1234,\"address\":\"hyd\"}\n",
    "print(dict1)"
   ]
  },
  {
   "cell_type": "code",
   "execution_count": 56,
   "metadata": {},
   "outputs": [
    {
     "name": "stdout",
     "output_type": "stream",
     "text": [
      "1234\n"
     ]
    }
   ],
   "source": [
    "#Extracting an element\n",
    "print(dict1[\"emp id\"])"
   ]
  },
  {
   "cell_type": "code",
   "execution_count": 57,
   "metadata": {},
   "outputs": [
    {
     "name": "stdout",
     "output_type": "stream",
     "text": [
      "{'name': 'bharadwaj', 'emp id': 1234}\n"
     ]
    }
   ],
   "source": [
    "#Removing or deleting an entry\n",
    "del dict1[\"address\"]\n",
    "print(dict1)"
   ]
  },
  {
   "cell_type": "code",
   "execution_count": 58,
   "metadata": {},
   "outputs": [
    {
     "name": "stdout",
     "output_type": "stream",
     "text": [
      "{'name': 'bharadwaj', 'emp id': 1234, 'course': 'python'}\n"
     ]
    }
   ],
   "source": [
    "#Adding an entry\n",
    "dict1[\"course\"] = \"python\"\n",
    "print(dict1)"
   ]
  },
  {
   "cell_type": "markdown",
   "metadata": {},
   "source": [
    "### Built-in methods:\n",
    "1. keys()\n",
    "2. values\n",
    "3. items()\n",
    "4. get()\n",
    "5. update()\n",
    "6. pop()\n",
    "7. popitem()"
   ]
  },
  {
   "cell_type": "code",
   "execution_count": 62,
   "metadata": {},
   "outputs": [
    {
     "name": "stdout",
     "output_type": "stream",
     "text": [
      "dict_keys(['name', 'emp id', 'course'])\n",
      "dict_values(['bharadwaj', 1234, 'python'])\n",
      "dict_items([('name', 'bharadwaj'), ('emp id', 1234), ('course', 'python')])\n"
     ]
    }
   ],
   "source": [
    "print(dict1.keys())\n",
    "print(dict1.values())\n",
    "print(dict1.items())"
   ]
  },
  {
   "cell_type": "code",
   "execution_count": 64,
   "metadata": {},
   "outputs": [
    {
     "name": "stdout",
     "output_type": "stream",
     "text": [
      "bharadwaj\n",
      "bharadwaj\n"
     ]
    }
   ],
   "source": [
    "#Extracting an element\n",
    "print(dict1[\"name\"])\n",
    "print(dict1.get(\"name\"))"
   ]
  },
  {
   "cell_type": "code",
   "execution_count": 65,
   "metadata": {},
   "outputs": [
    {
     "data": {
      "text/plain": [
       "{'name': 'bharadwaj', 'emp id': 1234, 'course': 'python', 'address': 'hyd'}"
      ]
     },
     "execution_count": 65,
     "metadata": {},
     "output_type": "execute_result"
    }
   ],
   "source": [
    "#Adding an entry\n",
    "dict1[\"address\"] = \"hyd\"\n",
    "dict1"
   ]
  },
  {
   "cell_type": "code",
   "execution_count": 66,
   "metadata": {},
   "outputs": [
    {
     "name": "stdout",
     "output_type": "stream",
     "text": [
      "{'name': 'bharadwaj', 'emp id': 1234, 'course': 'python', 'address': 'hyd', 1: 1, 2: 2, 3: 3}\n"
     ]
    }
   ],
   "source": [
    "d = {1:1,2:2,3:3}\n",
    "dict1.update(d)\n",
    "print(dict1)"
   ]
  },
  {
   "cell_type": "code",
   "execution_count": 67,
   "metadata": {},
   "outputs": [
    {
     "data": {
      "text/plain": [
       "{'emp id': 1234, 'course': 'python', 'address': 'hyd', 1: 1, 2: 2, 3: 3}"
      ]
     },
     "execution_count": 67,
     "metadata": {},
     "output_type": "execute_result"
    }
   ],
   "source": [
    "#Removing an entry ==> pop(),popitem()\n",
    "dict1.pop(\"name\")\n",
    "dict1"
   ]
  },
  {
   "cell_type": "code",
   "execution_count": 71,
   "metadata": {},
   "outputs": [
    {
     "data": {
      "text/plain": [
       "('address', 'hyd')"
      ]
     },
     "execution_count": 71,
     "metadata": {},
     "output_type": "execute_result"
    }
   ],
   "source": [
    "dict1.popitem()"
   ]
  },
  {
   "cell_type": "code",
   "execution_count": 72,
   "metadata": {},
   "outputs": [
    {
     "data": {
      "text/plain": [
       "{'emp id': 1234, 'course': 'python'}"
      ]
     },
     "execution_count": 72,
     "metadata": {},
     "output_type": "execute_result"
    }
   ],
   "source": [
    "dict1"
   ]
  }
 ],
 "metadata": {
  "kernelspec": {
   "display_name": "Python 3",
   "language": "python",
   "name": "python3"
  },
  "language_info": {
   "codemirror_mode": {
    "name": "ipython",
    "version": 3
   },
   "file_extension": ".py",
   "mimetype": "text/x-python",
   "name": "python",
   "nbconvert_exporter": "python",
   "pygments_lexer": "ipython3",
   "version": "3.7.6"
  }
 },
 "nbformat": 4,
 "nbformat_minor": 4
}
