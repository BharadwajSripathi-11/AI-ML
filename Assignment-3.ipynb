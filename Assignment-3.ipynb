{
 "cells": [
  {
   "cell_type": "markdown",
   "metadata": {},
   "source": [
    "### CSE-221710305056-SRIPATHI VENKATA SAI BHARADWAJ"
   ]
  },
  {
   "cell_type": "markdown",
   "metadata": {},
   "source": [
    "### Assignmnet(29-05-2020)"
   ]
  },
  {
   "cell_type": "markdown",
   "metadata": {},
   "source": [
    "Question 1:Create a function to find Factorial of a number using Recursion\n"
   ]
  },
  {
   "cell_type": "code",
   "execution_count": 1,
   "metadata": {},
   "outputs": [
    {
     "name": "stdout",
     "output_type": "stream",
     "text": [
      "6\n",
      "factorial  is  720\n"
     ]
    }
   ],
   "source": [
    "def factorial(x):\n",
    "    if x==1:\n",
    "        return 1\n",
    "    else:\n",
    "        return x*factorial(x-1)\n",
    "\n",
    "n=int(input(''))\n",
    "f=factorial(n)\n",
    "print (\"factorial  is \",f)"
   ]
  },
  {
   "cell_type": "markdown",
   "metadata": {},
   "source": [
    "Question 2:Create a function and display ‘n’ Fibonacci numbers using Recursion\n"
   ]
  },
  {
   "cell_type": "code",
   "execution_count": 2,
   "metadata": {},
   "outputs": [
    {
     "name": "stdout",
     "output_type": "stream",
     "text": [
      "5\n",
      "Fibonacci sequence:\n",
      "0 1 1 2 3 "
     ]
    }
   ],
   "source": [
    "def fib(n):\n",
    "    if n <= 1:  \n",
    "        return n  \n",
    "    else:  \n",
    "        return(fib(n-1) + fib(n-2))  \n",
    "k= int(input(\"\"))  \n",
    "print(\"Fibonacci sequence:\")  \n",
    "for i in range (k):  \n",
    "       print(fib(i),end=\" \")"
   ]
  },
  {
   "cell_type": "markdown",
   "metadata": {},
   "source": [
    "Question 3:Print sum of list of elements without using sum() function"
   ]
  },
  {
   "cell_type": "code",
   "execution_count": 3,
   "metadata": {},
   "outputs": [
    {
     "name": "stdout",
     "output_type": "stream",
     "text": [
      "no ofelements 5\n",
      "enter values 2\n",
      "enter values 6\n",
      "enter values 1\n",
      "enter values 3\n",
      "enter values 4\n",
      "sum of all elements is :  16\n"
     ]
    }
   ],
   "source": [
    "num= []\n",
    "total = 0\n",
    "j = 0\n",
    "n = int(input(\"no ofelements \"))\n",
    "for i in range(1, n + 1):\n",
    "    value = int(input(\"enter values \" ))\n",
    "    num.append(value)\n",
    "\n",
    "while(j < n):\n",
    "    total = total + num[j]\n",
    "    j = j + 1\n",
    "print(\"sum of all elements is : \", total)"
   ]
  },
  {
   "cell_type": "markdown",
   "metadata": {},
   "source": [
    "Question 4:print only even numbers from the list"
   ]
  },
  {
   "cell_type": "code",
   "execution_count": 4,
   "metadata": {},
   "outputs": [
    {
     "name": "stdout",
     "output_type": "stream",
     "text": [
      "total number of elements : 4\n",
      "values are: 5\n",
      "values are: 3\n",
      "values are: 4\n",
      "values are: 2\n",
      "\n",
      "Even Numbers are\n",
      "4   2   "
     ]
    }
   ],
   "source": [
    "num = []\n",
    "n = int(input(\"total number of elements : \"))\n",
    "for i in range(1, n + 1):\n",
    "    value = int(input(\"values are: \" ))\n",
    "    num.append(value)\n",
    "print(\"\\nEven Numbers are\")\n",
    "for j in range(n):\n",
    "    if(num[j] % 2 == 0):\n",
    "        print(num[j], end = '   ')"
   ]
  },
  {
   "cell_type": "markdown",
   "metadata": {},
   "source": [
    "Question 5:Write a Python program to get the smallest number from a list and display index of smallest element of the list\n"
   ]
  },
  {
   "cell_type": "code",
   "execution_count": 5,
   "metadata": {},
   "outputs": [
    {
     "name": "stdout",
     "output_type": "stream",
     "text": [
      "2\n",
      "1\n"
     ]
    }
   ],
   "source": [
    "list=[2,3,1,4,5]\n",
    "print(list.index(min(list)))\n",
    "print(min(list))"
   ]
  },
  {
   "cell_type": "markdown",
   "metadata": {},
   "source": [
    "Question 6:Write a Python function that checks whether a passed string is palindrome or not."
   ]
  },
  {
   "cell_type": "code",
   "execution_count": 6,
   "metadata": {},
   "outputs": [
    {
     "name": "stdout",
     "output_type": "stream",
     "text": [
      "Enter string: dad\n",
      "it is palindrome\n"
     ]
    }
   ],
   "source": [
    "def pal(s):\n",
    "    if len(s) < 1:\n",
    "        return True\n",
    "    else:\n",
    "        if s[0] == s[-1]:\n",
    "            return pal(s[1:-1])\n",
    "        else:\n",
    "            return False\n",
    "a=str(input(\"Enter string: \"))\n",
    "if(pal(a)==True):\n",
    "    print(\"it is palindrome\")\n",
    "else:\n",
    "    print(\"not a palindrome\")"
   ]
  },
  {
   "cell_type": "markdown",
   "metadata": {},
   "source": [
    "Question 7:Write a Python program to count the number of even and odd numbers from a series of numbers. \n",
    "Sample numbers : numbers = [1, 2, 3, 4, 5, 6, 7, 8, 9]\n",
    "Expected Output :\n",
    "Number of even numbers : 4\n",
    "Number of odd numbers : 5\n"
   ]
  },
  {
   "cell_type": "code",
   "execution_count": 7,
   "metadata": {},
   "outputs": [
    {
     "name": "stdout",
     "output_type": "stream",
     "text": [
      "total number of elements 5\n",
      "values are 14\n",
      "values are 23\n",
      "values are 15\n",
      "values are 11\n",
      "values are 45\n",
      "total odd numbers =   4\n",
      "total even numbers =  1\n"
     ]
    }
   ],
   "source": [
    "num=[]\n",
    "ecount = 0\n",
    "ocount = 0\n",
    "n = int(input(\"total number of elements \"))\n",
    "for i in range(1, n+ 1):\n",
    "    value = int(input(\"values are \"))\n",
    "    num.append(value)\n",
    "for j in range(n):\n",
    "    if(num[j] % 2 == 0):\n",
    "        ecount = ecount + 1\n",
    "    else:\n",
    "        ocount = ocount + 1\n",
    "\n",
    "print(\"total odd numbers =  \", ocount)\n",
    "print(\"total even numbers = \", ecount)"
   ]
  },
  {
   "cell_type": "markdown",
   "metadata": {},
   "source": [
    "Question 8:Write a Python program that prints all the numbers from 0 to 6 except 3 and 6.\n",
    "Note : Use 'continue' statement.\n",
    "Expected Output : 0 1 2 4 5\n"
   ]
  },
  {
   "cell_type": "code",
   "execution_count": 8,
   "metadata": {},
   "outputs": [
    {
     "name": "stdout",
     "output_type": "stream",
     "text": [
      "0 1 2 4 5 "
     ]
    }
   ],
   "source": [
    "for x in range(6):\n",
    "    if (x == 3 or x==6):\n",
    "        continue\n",
    "    print(x,end=' ')"
   ]
  },
  {
   "cell_type": "markdown",
   "metadata": {},
   "source": [
    "Question 9:Write a python function to check whether the given number is prime or not\n"
   ]
  },
  {
   "cell_type": "code",
   "execution_count": 9,
   "metadata": {},
   "outputs": [
    {
     "name": "stdout",
     "output_type": "stream",
     "text": [
      "enter a number: 5\n",
      "prime number\n"
     ]
    }
   ],
   "source": [
    "num = int(input(\"enter a number: \"))\n",
    "for i in range(2, num):\n",
    "    if num % i  == 0:\n",
    "        print(\"not prime number\")\n",
    "        break\n",
    "else:\n",
    "    print(\"prime number\")"
   ]
  },
  {
   "cell_type": "markdown",
   "metadata": {},
   "source": [
    "Question 10:Write a python function to check whether the given number is Adam number or not\n",
    "Example: \n",
    "Input : 12\n",
    "Output : Adam Number\n"
   ]
  },
  {
   "cell_type": "code",
   "execution_count": 10,
   "metadata": {},
   "outputs": [
    {
     "name": "stdout",
     "output_type": "stream",
     "text": [
      "122\n",
      " is a adam number\n"
     ]
    }
   ],
   "source": [
    "n =input()\n",
    "rev=n[::-1]\n",
    "nsquare=int(n)**2\n",
    "revsquare=int(rev )**2\n",
    "if int(nsquare )==int(str(revsquare)[::-1]):\n",
    "   print(\" is a adam number\")\n",
    "else:\n",
    "   print(\" is not a adam number\")"
   ]
  },
  {
   "cell_type": "code",
   "execution_count": null,
   "metadata": {},
   "outputs": [],
   "source": []
  }
 ],
 "metadata": {
  "kernelspec": {
   "display_name": "Python 3",
   "language": "python",
   "name": "python3"
  },
  "language_info": {
   "codemirror_mode": {
    "name": "ipython",
    "version": 3
   },
   "file_extension": ".py",
   "mimetype": "text/x-python",
   "name": "python",
   "nbconvert_exporter": "python",
   "pygments_lexer": "ipython3",
   "version": "3.7.6"
  }
 },
 "nbformat": 4,
 "nbformat_minor": 4
}
