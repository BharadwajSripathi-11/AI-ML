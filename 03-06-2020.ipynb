{
 "cells": [
  {
   "cell_type": "code",
   "execution_count": 1,
   "metadata": {},
   "outputs": [
    {
     "name": "stdout",
     "output_type": "stream",
     "text": [
      "Welcome password picker!!!\n"
     ]
    }
   ],
   "source": [
    "import string\n",
    "from random import *\n",
    "print(\"Welcome password picker!!!\")\n",
    "adj = [\"Excellent\",\"Very Good\",\"Good\",\"Bad\",\"Poor\"]\n",
    "noun = [\"bharadwaj\",\"sai\",\"srinivas\",\"kalyan\",\"venu\",\"chandra\"]\n",
    "digits = string.digits\n",
    "spl_char = string.punctuation"
   ]
  },
  {
   "cell_type": "code",
   "execution_count": 2,
   "metadata": {},
   "outputs": [
    {
     "name": "stdout",
     "output_type": "stream",
     "text": [
      "Your password is :  Poorsai9#\n",
      "Do you want to generate New password? \n",
      "Enter yes for New password No for Not generating the password: No\n"
     ]
    }
   ],
   "source": [
    "while True:\n",
    "    password = choice(adj) + choice(noun) + choice(digits) + choice(spl_char)\n",
    "    print(\"Your password is : \",password)\n",
    "    print(\"Do you want to generate New password? \")\n",
    "    response = input(\"Enter yes for New password No for Not generating the password: \")\n",
    "    if response == \"No\":\n",
    "        break\n",
    "    elif response == \"Yes\":\n",
    "        continue\n",
    "    else:\n",
    "        print(\"Enter either Yes or No\")"
   ]
  },
  {
   "cell_type": "markdown",
   "metadata": {},
   "source": [
    "### Module:\n",
    "\n",
    "1. Pre-defined modules\n",
    "2. User-defined modules"
   ]
  },
  {
   "cell_type": "code",
   "execution_count": 3,
   "metadata": {},
   "outputs": [
    {
     "data": {
      "text/plain": [
       "'0123456789'"
      ]
     },
     "execution_count": 3,
     "metadata": {},
     "output_type": "execute_result"
    }
   ],
   "source": [
    "import string\n",
    "string.digits"
   ]
  },
  {
   "cell_type": "code",
   "execution_count": 4,
   "metadata": {},
   "outputs": [
    {
     "data": {
      "text/plain": [
       "'0123456789'"
      ]
     },
     "execution_count": 4,
     "metadata": {},
     "output_type": "execute_result"
    }
   ],
   "source": [
    "import string as s\n",
    "s.digits"
   ]
  },
  {
   "cell_type": "code",
   "execution_count": 5,
   "metadata": {},
   "outputs": [
    {
     "name": "stdout",
     "output_type": "stream",
     "text": [
      "0123456789\n",
      "!\"#$%&'()*+,-./:;<=>?@[\\]^_`{|}~\n"
     ]
    }
   ],
   "source": [
    "from string import digits,punctuation\n",
    "#digits = 10\n",
    "print(digits)\n",
    "print(punctuation)"
   ]
  },
  {
   "cell_type": "code",
   "execution_count": 6,
   "metadata": {},
   "outputs": [
    {
     "name": "stdout",
     "output_type": "stream",
     "text": [
      "0123456789\n",
      "!\"#$%&'()*+,-./:;<=>?@[\\]^_`{|}~\n"
     ]
    }
   ],
   "source": [
    "from string import *\n",
    "print(digits)\n",
    "print(punctuation)"
   ]
  },
  {
   "cell_type": "code",
   "execution_count": 7,
   "metadata": {},
   "outputs": [
    {
     "name": "stdout",
     "output_type": "stream",
     "text": [
      "15\n"
     ]
    }
   ],
   "source": [
    "list1 = [1,2,3,4,5]\n",
    "s = 0#integer\n",
    "for i in list1:\n",
    "    s += i\n",
    "print(s)\n",
    "#print(sum(list1))"
   ]
  },
  {
   "cell_type": "markdown",
   "metadata": {},
   "source": [
    "### User-defined Modules:"
   ]
  },
  {
   "cell_type": "code",
   "execution_count": 8,
   "metadata": {},
   "outputs": [
    {
     "name": "stdout",
     "output_type": "stream",
     "text": [
      "Good Afternoon  bharadwaj\n"
     ]
    }
   ],
   "source": [
    "import operations as o\n",
    "o.wish(\"bharadwaj\")"
   ]
  },
  {
   "cell_type": "code",
   "execution_count": 9,
   "metadata": {},
   "outputs": [
    {
     "data": {
      "text/plain": [
       "'True'"
      ]
     },
     "execution_count": 9,
     "metadata": {},
     "output_type": "execute_result"
    }
   ],
   "source": [
    "o.result"
   ]
  },
  {
   "cell_type": "markdown",
   "metadata": {},
   "source": [
    "### Built-in Libraries:\n",
    "1. math\n",
    "2. statistics\n",
    "3. random"
   ]
  },
  {
   "cell_type": "code",
   "execution_count": 10,
   "metadata": {},
   "outputs": [],
   "source": [
    "import math"
   ]
  },
  {
   "cell_type": "code",
   "execution_count": 11,
   "metadata": {},
   "outputs": [
    {
     "data": {
      "text/plain": [
       "120"
      ]
     },
     "execution_count": 11,
     "metadata": {},
     "output_type": "execute_result"
    }
   ],
   "source": [
    "math.factorial(5)"
   ]
  },
  {
   "cell_type": "code",
   "execution_count": 12,
   "metadata": {},
   "outputs": [
    {
     "data": {
      "text/plain": [
       "153.93804002589985"
      ]
     },
     "execution_count": 12,
     "metadata": {},
     "output_type": "execute_result"
    }
   ],
   "source": [
    "#using math module find out Area of the circle(Pi*r*r)\n",
    "def Area(radius):\n",
    "    return math.pi * math.pow(radius,2)\n",
    "Area(7)"
   ]
  },
  {
   "cell_type": "code",
   "execution_count": 41,
   "metadata": {},
   "outputs": [
    {
     "data": {
      "text/plain": [
       "[1, 2, 3, 4, 5, 6, 7, 8, 9, 10, 11, 12, 13, 14, 15, 16, 17, 18, 19, 20]"
      ]
     },
     "execution_count": 41,
     "metadata": {},
     "output_type": "execute_result"
    }
   ],
   "source": [
    "import statistics as st\n",
    "list1 = list(range(1,21))\n",
    "list1"
   ]
  },
  {
   "cell_type": "code",
   "execution_count": 42,
   "metadata": {},
   "outputs": [
    {
     "name": "stdout",
     "output_type": "stream",
     "text": [
      "10.5\n",
      "10.5\n"
     ]
    }
   ],
   "source": [
    "print(st.mean(list1))\n",
    "print(sum(list1)/len(list1))"
   ]
  },
  {
   "cell_type": "code",
   "execution_count": 43,
   "metadata": {},
   "outputs": [
    {
     "name": "stdout",
     "output_type": "stream",
     "text": [
      "10.5\n"
     ]
    }
   ],
   "source": [
    "print(st.median(list1))"
   ]
  },
  {
   "cell_type": "code",
   "execution_count": 44,
   "metadata": {},
   "outputs": [
    {
     "name": "stdout",
     "output_type": "stream",
     "text": [
      "2\n"
     ]
    }
   ],
   "source": [
    "list2 = [1,2,3,4,3,3,4,2,2,2]\n",
    "print(st.mode(list2))"
   ]
  },
  {
   "cell_type": "code",
   "execution_count": 45,
   "metadata": {},
   "outputs": [
    {
     "data": {
      "text/plain": [
       "0.9660917830792959"
      ]
     },
     "execution_count": 45,
     "metadata": {},
     "output_type": "execute_result"
    }
   ],
   "source": [
    "st.stdev(list2)"
   ]
  },
  {
   "cell_type": "code",
   "execution_count": 46,
   "metadata": {},
   "outputs": [
    {
     "data": {
      "text/plain": [
       "0.9333333333333333"
      ]
     },
     "execution_count": 46,
     "metadata": {},
     "output_type": "execute_result"
    }
   ],
   "source": [
    "st.variance(list2)"
   ]
  },
  {
   "cell_type": "markdown",
   "metadata": {},
   "source": [
    "### Random:\n",
    "1. randint() --> randint(start,stop),start and stop values are included\n",
    "2. randrange --> stop value is excluded\n",
    "3. random() --> floating point number between 0 - 1\n",
    "4. choice() --> gives you a single element\n",
    "5. choices() --> gives you multiple elements"
   ]
  },
  {
   "cell_type": "code",
   "execution_count": 31,
   "metadata": {},
   "outputs": [
    {
     "name": "stdout",
     "output_type": "stream",
     "text": [
      "9\n",
      "8\n",
      "0.9428457916291683\n"
     ]
    }
   ],
   "source": [
    "import random\n",
    "print(random.randint(1,10))\n",
    "print(random.randrange(1,10))\n",
    "print(random.random())"
   ]
  },
  {
   "cell_type": "code",
   "execution_count": 32,
   "metadata": {},
   "outputs": [
    {
     "name": "stdout",
     "output_type": "stream",
     "text": [
      "3\n",
      "[8, 3, 3]\n"
     ]
    }
   ],
   "source": [
    "list1 = [1,2,3,4,5,6,7,8]\n",
    "print(random.choice(list1))\n",
    "print(random.choices(list1,k=3))"
   ]
  },
  {
   "cell_type": "markdown",
   "metadata": {},
   "source": [
    "### OS:\n",
    "1. rename() --> Renaming\n",
    "2. remove() --> Removing\n",
    "3. mkdir() --> Make a directory\n",
    "4. getcwd() --> get current working directory\n",
    "5. listdir() --> gives you list of things in your directory\n",
    "6. chdir() --> change directory\n",
    "7. rmdir() --> Removing the directory"
   ]
  },
  {
   "cell_type": "code",
   "execution_count": 26,
   "metadata": {},
   "outputs": [],
   "source": [
    "import os \n",
    "os.mkdir(\"sample\")"
   ]
  },
  {
   "cell_type": "code",
   "execution_count": 27,
   "metadata": {},
   "outputs": [
    {
     "data": {
      "text/plain": [
       "'C:\\\\Users\\\\User\\\\Desktop\\\\AI&ML'"
      ]
     },
     "execution_count": 27,
     "metadata": {},
     "output_type": "execute_result"
    }
   ],
   "source": [
    "os.getcwd()"
   ]
  },
  {
   "cell_type": "code",
   "execution_count": 28,
   "metadata": {},
   "outputs": [
    {
     "data": {
      "text/plain": [
       "['.git',\n",
       " '.ipynb_checkpoints',\n",
       " '01-06-2020.ipynb',\n",
       " '02-06-2020.ipynb',\n",
       " '03-06-2020.ipynb',\n",
       " '30-05-2020.ipynb',\n",
       " 'AI-ML',\n",
       " 'Assi2.txt',\n",
       " 'Assi2_Ans.ipynb',\n",
       " 'Assignment (28-05-2020).ipynb',\n",
       " 'Assignment-3.ipynb',\n",
       " 'Assignment-4.ipynb',\n",
       " 'Assignment-5.ipynb',\n",
       " 'Assignment-6.ipynb',\n",
       " 'operations.py',\n",
       " 'python class',\n",
       " 'sample',\n",
       " 'ss.txt',\n",
       " '__pycache__']"
      ]
     },
     "execution_count": 28,
     "metadata": {},
     "output_type": "execute_result"
    }
   ],
   "source": [
    "os.listdir()"
   ]
  },
  {
   "cell_type": "code",
   "execution_count": 29,
   "metadata": {},
   "outputs": [],
   "source": [
    "os.rmdir(\"sample\")"
   ]
  },
  {
   "cell_type": "markdown",
   "metadata": {},
   "source": [
    "### Numpy Package:\n",
    "1. operations related Numerics\n",
    "2. Computational operation"
   ]
  },
  {
   "cell_type": "code",
   "execution_count": 20,
   "metadata": {},
   "outputs": [
    {
     "data": {
      "text/plain": [
       "numpy.ndarray"
      ]
     },
     "execution_count": 20,
     "metadata": {},
     "output_type": "execute_result"
    }
   ],
   "source": [
    "import numpy as np\n",
    "list1 = [1,2,3,4,5]\n",
    "arr1 = np.array(list1)\n",
    "type(arr1)"
   ]
  },
  {
   "cell_type": "code",
   "execution_count": 21,
   "metadata": {},
   "outputs": [
    {
     "data": {
      "text/plain": [
       "[1, 2, 3, 4, 5, 6, 7, 8, 9, 10]"
      ]
     },
     "execution_count": 21,
     "metadata": {},
     "output_type": "execute_result"
    }
   ],
   "source": [
    "list2 = list(range(1,11))\n",
    "list2"
   ]
  },
  {
   "cell_type": "code",
   "execution_count": 22,
   "metadata": {},
   "outputs": [
    {
     "data": {
      "text/plain": [
       "array([ 1,  2,  3,  4,  5,  6,  7,  8,  9, 10])"
      ]
     },
     "execution_count": 22,
     "metadata": {},
     "output_type": "execute_result"
    }
   ],
   "source": [
    "arr2 = np.arange(1,11)\n",
    "arr2"
   ]
  },
  {
   "cell_type": "markdown",
   "metadata": {},
   "source": [
    "### Differences Between Python list and Numpy Array\n",
    "1. Less memory\n",
    "2. Fast\n",
    "3. Convenient"
   ]
  },
  {
   "cell_type": "code",
   "execution_count": 35,
   "metadata": {},
   "outputs": [
    {
     "name": "stdout",
     "output_type": "stream",
     "text": [
      "24000\n",
      "4000\n"
     ]
    }
   ],
   "source": [
    "import sys\n",
    "size = 1000\n",
    "list1 = list(range(size))\n",
    "print(sys.getsizeof(list1[0])*size)\n",
    "arr1 = np.arange(1000)\n",
    "print(arr1.itemsize * arr1.size)"
   ]
  },
  {
   "cell_type": "code",
   "execution_count": 48,
   "metadata": {},
   "outputs": [
    {
     "name": "stdout",
     "output_type": "stream",
     "text": [
      "Time took for python list:  0.00798797607421875\n",
      "Time took for Numpy array:  0.0008838176727294922\n"
     ]
    }
   ],
   "source": [
    "import time\n",
    "size = 20000\n",
    "list1 = list(range(size))\n",
    "list2 = list(range(size))\n",
    "start = time.time()\n",
    "result = [x+y for x,y in zip(list1,list2)]\n",
    "print(\"Time took for python list: \",time.time()-start)\n",
    "\n",
    "arr1 = np.arange(size)\n",
    "arr2 = np.arange(size)\n",
    "start = time.time()\n",
    "result = arr1 + arr2\n",
    "print(\"Time took for Numpy array: \",time.time()-start)"
   ]
  }
 ],
 "metadata": {
  "kernelspec": {
   "display_name": "Python 3",
   "language": "python",
   "name": "python3"
  },
  "language_info": {
   "codemirror_mode": {
    "name": "ipython",
    "version": 3
   },
   "file_extension": ".py",
   "mimetype": "text/x-python",
   "name": "python",
   "nbconvert_exporter": "python",
   "pygments_lexer": "ipython3",
   "version": "3.7.6"
  }
 },
 "nbformat": 4,
 "nbformat_minor": 4
}
